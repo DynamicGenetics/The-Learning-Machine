{
 "cells": [
  {
   "cell_type": "code",
   "source": [
    "from PIL import Image\n",
    "from matplotlib import pyplot as plt\n",
    "import numpy as np\n",
    "import face_recognition"
   ],
   "outputs": [],
   "execution_count": 4,
   "metadata": {
    "pycharm": {
     "is_executing": false
    }
   }
  },
  {
   "cell_type": "code",
   "source": [
    "import os \n",
    "\n",
    "TEST_FOLDER = os.path.join('.', 'test_images')\n",
    "FACE_FOLDER = os.path.join(TEST_FOLDER, 'faces')"
   ],
   "outputs": [],
   "execution_count": 5,
   "metadata": {
    "pycharm": {
     "is_executing": false
    }
   }
  },
  {
   "cell_type": "code",
   "source": [
    "os.makedirs(FACE_FOLDER, exist_ok=True)"
   ],
   "outputs": [],
   "execution_count": 6,
   "metadata": {
    "pycharm": {
     "is_executing": false
    }
   }
  },
  {
   "cell_type": "markdown",
   "source": [
    "## Face Detection"
   ],
   "metadata": {}
  },
  {
   "cell_type": "markdown",
   "source": [
    "### Sample Image"
   ],
   "metadata": {}
  },
  {
   "cell_type": "code",
   "source": [
    "image1 = Image.open(os.path.join(TEST_FOLDER, \"040wrmpyTF5l.jpg\"))\n",
    "image_array1 = np.array(image1)\n",
    "plt.imshow(image_array1)\n",
    "plt.show()"
   ],
   "outputs": [],
   "execution_count": 9,
   "metadata": {
    "pycharm": {
     "is_executing": false
    }
   }
  },
  {
   "cell_type": "markdown",
   "source": [
    "## Face Detection"
   ],
   "metadata": {}
  },
  {
   "cell_type": "markdown",
   "source": [
    "### Detecting the location of faces from a given image using face_recognition library"
   ],
   "metadata": {}
  },
  {
   "cell_type": "code",
   "source": [
    "image = face_recognition.load_image_file(os.path.join(TEST_FOLDER, \"040wrmpyTF5l.jpg\"))\n",
    "\n",
    "face_locations = face_recognition.face_locations(image)"
   ],
   "outputs": [],
   "execution_count": null,
   "metadata": {
    "pycharm": {
     "is_executing": false
    }
   }
  },
  {
   "cell_type": "markdown",
   "source": [
    "#### A list of tuples of found face locations in (top, right, bottom, left) order"
   ],
   "metadata": {}
  },
  {
   "cell_type": "code",
   "source": [
    "face_locations"
   ],
   "outputs": [],
   "execution_count": null,
   "metadata": {
    "pycharm": {
     "is_executing": false
    }
   }
  },
  {
   "cell_type": "markdown",
   "source": [
    "#### Taking the first face detected from image and plotting it"
   ],
   "metadata": {}
  },
  {
   "cell_type": "code",
   "source": [
    "top, right, bottom, left = face_locations[0]\n",
    "face_image1 = image[top:bottom, left:right]\n",
    "plt.imshow(face_image1)\n",
    "\n",
    "image_save = Image.fromarray(face_image1)\n",
    "image_save.save(os.path.join(FACE_FOLDER, \"image_1.jpg\"))"
   ],
   "outputs": [],
   "execution_count": null,
   "metadata": {
    "pycharm": {
     "is_executing": false
    }
   }
  },
  {
   "cell_type": "markdown",
   "source": [
    "#### Taking the second face detected from image and plotting it"
   ],
   "metadata": {}
  },
  {
   "cell_type": "code",
   "source": [
    "top, right, bottom, left = face_locations[1]\n",
    "face_image2 = image[top:bottom, left:right]\n",
    "plt.imshow(face_image2)\n",
    "plt.show()\n",
    "\n",
    "image_save = Image.fromarray(face_image2)\n",
    "image_save.save(os.path.join(FACE_FOLDER, \"image_2.jpg\"))"
   ],
   "outputs": [],
   "execution_count": null,
   "metadata": {
    "pycharm": {
     "is_executing": false
    }
   }
  },
  {
   "cell_type": "markdown",
   "source": [
    "## Face Recognition"
   ],
   "metadata": {}
  },
  {
   "cell_type": "markdown",
   "source": [
    "### Image1"
   ],
   "metadata": {}
  },
  {
   "cell_type": "code",
   "source": [
    "image1 = Image.open(os.path.join(TEST_FOLDER, \"index2.jpeg\"))\n",
    "image_array1 = np.array(image1)\n",
    "plt.imshow(image_array1)\n",
    "plt.show()"
   ],
   "outputs": [],
   "execution_count": 8,
   "metadata": {
    "pycharm": {
     "is_executing": false
    }
   }
  },
  {
   "cell_type": "markdown",
   "source": [
    "### Image2"
   ],
   "metadata": {}
  },
  {
   "cell_type": "code",
   "source": [
    "image2 = Image.open(os.path.join(TEST_FOLDER, \"index1.jpg\"))\n",
    "image_array2 = np.array(image2)\n",
    "plt.imshow(image_array2)\n",
    "plt.show()"
   ],
   "outputs": [],
   "execution_count": null,
   "metadata": {
    "pycharm": {
     "is_executing": false
    }
   }
  },
  {
   "cell_type": "markdown",
   "source": [
    "### Image3"
   ],
   "metadata": {}
  },
  {
   "cell_type": "code",
   "source": [
    "image3 = Image.open(os.path.join(TEST_FOLDER, \"rajeev.jpg\"))\n",
    "image_array3 = np.array(image3)\n",
    "plt.imshow(image_array3)\n",
    "plt.show()"
   ],
   "outputs": [],
   "execution_count": null,
   "metadata": {
    "pycharm": {
     "is_executing": false
    }
   }
  },
  {
   "cell_type": "markdown",
   "source": [
    "### Face Enconding\n",
    "\n",
    "Find the face encoding for Image1 and Image2 which is of same person with different pose and compare them to find if they are recognized as same"
   ],
   "metadata": {}
  },
  {
   "cell_type": "code",
   "source": [
    "image1 = face_recognition.load_image_file(os.path.join(TEST_FOLDER, \"index1.jpg\"))\n",
    "image2 = face_recognition.load_image_file(os.path.join(TEST_FOLDER, \"index2.jpeg\"))\n",
    " \n",
    "encoding_1 = face_recognition.face_encodings(image1)[0]\n",
    "\n",
    "encoding_2 = face_recognition.face_encodings(image1)[0]\n",
    "\n",
    "results = face_recognition.compare_faces([encoding_1], encoding_2,tolerance=0.50)\n"
   ],
   "outputs": [],
   "execution_count": null,
   "metadata": {
    "pycharm": {
     "is_executing": false
    }
   }
  },
  {
   "cell_type": "markdown",
   "source": [
    "the result of the above comparison returns \"True\" stating that two images having different pose are recognized as same"
   ],
   "metadata": {}
  },
  {
   "cell_type": "code",
   "source": [
    "print(results)"
   ],
   "outputs": [],
   "execution_count": null,
   "metadata": {
    "pycharm": {
     "is_executing": false
    }
   }
  },
  {
   "cell_type": "markdown",
   "source": [
    "the same is done for Image1 and Image3 which are the images of two persons and the result returned after comparison is \"False\" denoting the two images are not recognized as same"
   ],
   "metadata": {}
  },
  {
   "cell_type": "code",
   "source": [
    "image1 = face_recognition.load_image_file(os.path.join(TEST_FOLDER, \"index1.jpg\"))\n",
    "image2 = face_recognition.load_image_file(os.path.join(TEST_FOLDER, \"rajeev.jpg\"))\n",
    " \n",
    "encoding_1 = face_recognition.face_encodings(image1)[0]\n",
    "\n",
    "encoding_2 = face_recognition.face_encodings(image2)[0]\n",
    "\n",
    "results = face_recognition.compare_faces([encoding_1], encoding_2,tolerance=0.50)\n"
   ],
   "outputs": [],
   "execution_count": null,
   "metadata": {
    "pycharm": {
     "is_executing": false
    }
   }
  },
  {
   "cell_type": "code",
   "source": [
    "print(results)"
   ],
   "outputs": [],
   "execution_count": null,
   "metadata": {
    "pycharm": {
     "is_executing": false
    }
   }
  }
 ],
 "metadata": {
  "kernelspec": {
   "name": "python-source",
   "language": "python",
   "display_name": "Python 3.7 (Torch)"
  },
  "language_info": {
   "name": "python",
   "version": "3.7.3",
   "mimetype": "text/x-python",
   "codemirror_mode": {
    "name": "ipython",
    "version": 3
   },
   "pygments_lexer": "ipython3",
   "nbconvert_exporter": "python",
   "file_extension": ".py"
  },
  "pycharm": {
   "stem_cell": {
    "cell_type": "raw",
    "source": [],
    "metadata": {
     "collapsed": false
    }
   }
  },
  "kernel_info": {
   "name": "datascience"
  },
  "nteract": {
   "version": "0.15.0"
  }
 },
 "nbformat": 4,
 "nbformat_minor": 2
}